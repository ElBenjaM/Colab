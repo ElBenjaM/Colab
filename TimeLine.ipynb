{
  "nbformat": 4,
  "nbformat_minor": 0,
  "metadata": {
    "colab": {
      "provenance": [],
      "authorship_tag": "ABX9TyMYscsvyJTAW6FF2OxhVnTX",
      "include_colab_link": true
    },
    "kernelspec": {
      "name": "python3",
      "display_name": "Python 3"
    },
    "language_info": {
      "name": "python"
    }
  },
  "cells": [
    {
      "cell_type": "markdown",
      "metadata": {
        "id": "view-in-github",
        "colab_type": "text"
      },
      "source": [
        "<a href=\"https://colab.research.google.com/github/ElBenjaM/Colab/blob/main/TimeLine.ipynb\" target=\"_parent\"><img src=\"https://colab.research.google.com/assets/colab-badge.svg\" alt=\"Open In Colab\"/></a>"
      ]
    },
    {
      "cell_type": "code",
      "execution_count": null,
      "metadata": {
        "cellView": "form",
        "id": "cHmBXVkodf2q"
      },
      "outputs": [],
      "source": [
        "#@title TimeLine\n",
        "import random\n",
        "\n",
        "# Crea una lista de eventos históricos y sus fechas correspondientes\n",
        "events = [(\"aparicion de los dinosaurios\",-230000000),\n",
        "  (\"extinsion de los dinosaurios\",-65000000),\n",
        "  (\"guerra de troya\",-1250) ,\n",
        "  (\"empieza contruccion muralla china\",-600),\n",
        "  (\"revuelta de espartaco\",-73),\n",
        "  (\"julio cesar es nombrado dictador vitalicio\",-44),\n",
        "  (\"incendio de roma\",64),\n",
        "  (\"destruccion de pompeya\",79),\n",
        "  (\"primera incursion vikinga\",789),\n",
        "  (\"empieza la primera cruzada\",1095),\n",
        "  (\"fundacion de los primeros templarios\",1119),\n",
        "  (\"Inquisicion papal\",1231),\n",
        "  (\"fundacion de Mexico-Tenochtitlan\",1325),\n",
        "  (\"guerra de los 100 anos\",1337),\n",
        "  (\"peste negra\",1346),\n",
        "  (\"primer circunnavegacion de la tierra\",1522),\n",
        "  (\"llegada del Mayflower a EEUU\",1620),\n",
        "  (\"termina construccion del taj mahal\",1653),\n",
        "  (\"incendio de Londres\",1666),\n",
        "  (\"erupcion del monte fuji\",1707),\n",
        "  (\"independencia de EEUU\",1776),\n",
        "  (\"primer viaje en globo por el canal de la mancha\",1785),\n",
        "  (\"derechos del hombre y el ciudadano\",1789),\n",
        "  (\"asalto al barco\",1789),\n",
        "  (\"compra de Louisiana\",1803),\n",
        "  (\"Napoleon se convierte en emperador\",1804),\n",
        "  (\"guerra del Alamo\",1836),\n",
        "  (\"comienza la fiebre del oro en California\",1848),\n",
        "  (\"Pony Express\",1860),\n",
        "  (\"guerra civil en EEUU\",1861),\n",
        "  (\"abolicion de la esclavitud en EEUU\",1865),\n",
        "  (\"primer rascacielos\",1885),\n",
        "  (\"hundimiento del Titanic\",1912),\n",
        "  (\"Primera guerra mundial\",1914),\n",
        "  (\"primer viaje en solitario del Atlantico en avion\",1927),\n",
        "  (\"Jueves Negro\",1929),\n",
        "  (\"primer mundial de la FIFA\",1930),\n",
        "  (\"primer superheroe\",1938),\n",
        "  (\"Segunda guerra mundial\",1939),\n",
        "  (\"guerra fria\",1947),\n",
        "  (\"primer all star\",1951),\n",
        "  (\"primera vez subiendo el Everest\",1953),\n",
        "  (\"Rosa Parks no cede su asiento\",1955),\n",
        "  (\"muerte de JFK\",1963),\n",
        "  (\"discurso de Martin Luther King: Tengo un sueño\",1963),\n",
        "  (\"Festival de Woodstock\",1969),\n",
        "  (\"hombre llega a la luna\",1969),\n",
        "  (\"desastre de Chernobyl\",1986),\n",
        "  (\"caida del Muro de Berlin\",1989),\n",
        "  (\"liberacion de Nelson Mandela\",1990),\n",
        "  (\"primera guerra del Golfo\",1990),\n",
        "  (\"clonacion del primer animal: Dolly\",1996),\n",
        "  (\"Deep Blue vence al campeon mundial de ajedrez Garri Kaspárov\",1996),\n",
        "  (\"lanzamiento de Harry Potter\",1997),\n",
        "  (\"Ataque a las Torres Gemelas\",2001),\n",
        "\n",
        "]\n",
        "\n",
        "# Crea una lista vacía para almacenar los eventos adivinados\n",
        "guessed_events = []\n",
        "\n",
        "# Mezcla los eventos de forma aleatoria\n",
        "random.shuffle(events)\n",
        "\n",
        "# Crea un bucle que repita hasta que el jugador haya adivinado todos los eventos\n",
        "while len(guessed_events) < len(events):\n",
        "    # Selecciona un evento no adivinado de la lista de eventos\n",
        "    for event in events:\n",
        "        if event not in guessed_events:\n",
        "            break\n",
        "    # Pregunta al jugador por la fecha del evento seleccionado\n",
        "    guess = int(input(f\"¿En qué año ocurrió: “{event[0]}”? \"))\n",
        "    # Comprueba si la respuesta del jugador es correcta\n",
        "    if guess == event[1]:\n",
        "        print(\"¡Respuesta correcta!\")\n",
        "        guessed_events.append(event)\n",
        "    else:\n",
        "        print(\"¡Respuesta incorrecta! Intenta de nuevo.\")\n",
        "\n",
        "# Imprime un mensaje de felicitación al final del juego\n",
        "print(\"¡Felicidades! Has adivinado todos los eventos históricos.\")\n",
        "\n"
      ]
    }
  ]
}